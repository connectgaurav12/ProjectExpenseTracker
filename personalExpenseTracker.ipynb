{
 "cells": [
  {
   "cell_type": "code",
   "execution_count": 1,
   "id": "6c35cba2-21e9-4a17-a69e-ac32ed69af62",
   "metadata": {},
   "outputs": [],
   "source": [
    "import pandas as pd\n",
    "import datetime as dt"
   ]
  },
  {
   "cell_type": "code",
   "execution_count": 55,
   "id": "9e8bfabe-2fc9-4f3e-9538-fbc741c572e5",
   "metadata": {},
   "outputs": [],
   "source": [
    "#List to add expenses\n",
    "expenses=[]"
   ]
  },
  {
   "cell_type": "code",
   "execution_count": 23,
   "id": "ffd51808-30bd-4ba6-ba76-6774be259125",
   "metadata": {},
   "outputs": [],
   "source": [
    "#Function to add expenses\n",
    "def add_expenses():\n",
    "    date=input(\"Enter the date (YYYY-MM-DD) :\")\n",
    "    category = input(\"Enter the category (Food or Travel):\")\n",
    "    amount=float(input(\"Enter the amount:\"))\n",
    "    description=input(\"Enter a brief description:\")\n",
    "    expense={\"date\":date, \"category\":category, \"amount\":amount, \"description\":description}\n",
    "    expenses.append(expense)\n",
    "    print(\"Expense added successfully!\")"
   ]
  },
  {
   "cell_type": "code",
   "execution_count": 29,
   "id": "c01a729e-34c5-4eeb-a0b8-7d628883d2e9",
   "metadata": {},
   "outputs": [],
   "source": [
    "#Function to View expenses\n",
    "def view_expenses():    \n",
    "    if len(expenses) == 0:\n",
    "        print(\"No Expenses recorded!\")\n",
    "        return\n",
    "    for expense in expenses:\n",
    "        print(\"Date:\",expense['date'], \"Category:\",expense['category'],\"Amount:\",expense['amount'],\"Description:\",expense['description'])"
   ]
  },
  {
   "cell_type": "code",
   "execution_count": 59,
   "id": "85895112-4c7e-48a9-8be8-7f8647b8eff7",
   "metadata": {},
   "outputs": [],
   "source": [
    "#Function to set and track budget\n",
    "def track_budget():\n",
    "    budget=float(input(\"Please enter your monthly budget:\"))\n",
    "    current_expense=sum(expense['amount']for expense in expenses)\n",
    "    if current_expense > budget:\n",
    "        print(\"You have exceeded from your monthly allocated budget!\")\n",
    "    else:\n",
    "        print(\"You have\",budget - current_expense, \"left for the current month!\")"
   ]
  },
  {
   "cell_type": "code",
   "execution_count": 39,
   "id": "e7499ce0-44a6-48a4-a5e7-749a4b428d71",
   "metadata": {},
   "outputs": [],
   "source": [
    "#Function to Save expenses to a csv file\n",
    "def saveExpenses():\n",
    "    df=pd.DataFrame(expenses)\n",
    "    df.to_csv(\"expenses.csv\",index=False)\n",
    "    print(\"Expenses are successfully saved to expenses.csv\")"
   ]
  },
  {
   "cell_type": "code",
   "execution_count": 41,
   "id": "50b8741d-2664-4eb8-92ab-d90d5a05437b",
   "metadata": {},
   "outputs": [],
   "source": [
    "#Function to load expenses from expense.csv file\n",
    "def load_expenses():\n",
    "    df=pd.read_csv(\"expenses.csv\")\n",
    "    expenses=df.to_dict()\n",
    "    print(\"Expenses loaded from expenses.csv\")"
   ]
  },
  {
   "cell_type": "code",
   "execution_count": 45,
   "id": "576ae8b1-fedd-4d47-81a2-8db1d5865067",
   "metadata": {},
   "outputs": [],
   "source": [
    "#Function to display the menu options\n",
    "def display_menu():\n",
    "    print(\"1. Add Expenses\")\n",
    "    print(\"2. View Expenses\")\n",
    "    print(\"3. Track Budget\")\n",
    "    print(\"4. Save Expenses\")\n",
    "    print(\"5. Exit\")"
   ]
  },
  {
   "cell_type": "code",
   "execution_count": null,
   "id": "689395a5-7052-4b6d-ad3a-68461d16ea71",
   "metadata": {},
   "outputs": [
    {
     "name": "stdout",
     "output_type": "stream",
     "text": [
      "Expenses loaded from expenses.csv\n",
      "1. Add Expenses\n",
      "2. View Expenses\n",
      "3. Track Budget\n",
      "4. Save Expenses\n",
      "5. Exit\n"
     ]
    },
    {
     "name": "stdin",
     "output_type": "stream",
     "text": [
      "Please choose the option (1-5):  2\n"
     ]
    },
    {
     "name": "stdout",
     "output_type": "stream",
     "text": [
      "Date: 2024-11-30 Category: Food Amount: 20.5 Description: For breakfast\n",
      "Date: 2024-11-28 Category: Travel Amount: 30.4 Description: For office commute\n",
      "1. Add Expenses\n",
      "2. View Expenses\n",
      "3. Track Budget\n",
      "4. Save Expenses\n",
      "5. Exit\n"
     ]
    },
    {
     "name": "stdin",
     "output_type": "stream",
     "text": [
      "Please choose the option (1-5):  3\n",
      "Please enter your monthly budget: 100\n"
     ]
    },
    {
     "name": "stdout",
     "output_type": "stream",
     "text": [
      "You have 49.1 left for the current month!\n",
      "1. Add Expenses\n",
      "2. View Expenses\n",
      "3. Track Budget\n",
      "4. Save Expenses\n",
      "5. Exit\n"
     ]
    },
    {
     "name": "stdin",
     "output_type": "stream",
     "text": [
      "Please choose the option (1-5):  1\n",
      "Enter the date (YYYY-MM-DD) : 2024-12-01\n",
      "Enter the category (Food or Travel): Food\n",
      "Enter the amount: 20\n",
      "Enter a brief description: For client dinner\n"
     ]
    },
    {
     "name": "stdout",
     "output_type": "stream",
     "text": [
      "Expense added successfully!\n",
      "1. Add Expenses\n",
      "2. View Expenses\n",
      "3. Track Budget\n",
      "4. Save Expenses\n",
      "5. Exit\n"
     ]
    },
    {
     "name": "stdin",
     "output_type": "stream",
     "text": [
      "Please choose the option (1-5):  2\n"
     ]
    },
    {
     "name": "stdout",
     "output_type": "stream",
     "text": [
      "Date: 2024-11-30 Category: Food Amount: 20.5 Description: For breakfast\n",
      "Date: 2024-11-28 Category: Travel Amount: 30.4 Description: For office commute\n",
      "Date: 2024-12-01 Category: Food Amount: 20.0 Description: For client dinner\n",
      "1. Add Expenses\n",
      "2. View Expenses\n",
      "3. Track Budget\n",
      "4. Save Expenses\n",
      "5. Exit\n"
     ]
    },
    {
     "name": "stdin",
     "output_type": "stream",
     "text": [
      "Please choose the option (1-5):  4\n"
     ]
    },
    {
     "name": "stdout",
     "output_type": "stream",
     "text": [
      "Expenses are successfully saved to expenses.csv\n",
      "1. Add Expenses\n",
      "2. View Expenses\n",
      "3. Track Budget\n",
      "4. Save Expenses\n",
      "5. Exit\n"
     ]
    },
    {
     "name": "stdin",
     "output_type": "stream",
     "text": [
      "Please choose the option (1-5):  2\n"
     ]
    },
    {
     "name": "stdout",
     "output_type": "stream",
     "text": [
      "Date: 2024-11-30 Category: Food Amount: 20.5 Description: For breakfast\n",
      "Date: 2024-11-28 Category: Travel Amount: 30.4 Description: For office commute\n",
      "Date: 2024-12-01 Category: Food Amount: 20.0 Description: For client dinner\n",
      "1. Add Expenses\n",
      "2. View Expenses\n",
      "3. Track Budget\n",
      "4. Save Expenses\n",
      "5. Exit\n"
     ]
    }
   ],
   "source": [
    "#Function to Run the expense tracker\n",
    "def main():\n",
    "    load_expenses()\n",
    "    while True:\n",
    "        display_menu()\n",
    "        option=input(\"Please choose the option (1-5): \")\n",
    "        if option=='1':\n",
    "            add_expenses()\n",
    "        elif option=='2':\n",
    "            view_expenses()\n",
    "        elif option=='3':\n",
    "            track_budget()\n",
    "        elif option=='4':\n",
    "            saveExpenses()\n",
    "        elif option=='5':\n",
    "            saveExpenses()\n",
    "            print(\"Good Bye!\")\n",
    "            break\n",
    "        else:\n",
    "            print(\"Invalid Choice, Please tray again\")\n",
    "\n",
    "if __name__ == \"__main__\":\n",
    "    main()"
   ]
  },
  {
   "cell_type": "code",
   "execution_count": null,
   "id": "b33bf4ea-bb8a-49d5-b5bf-bd81a6662894",
   "metadata": {},
   "outputs": [],
   "source": []
  }
 ],
 "metadata": {
  "kernelspec": {
   "display_name": "anaconda-2024.02-py310",
   "language": "python",
   "name": "conda-env-anaconda-2024.02-py310-py"
  },
  "language_info": {
   "codemirror_mode": {
    "name": "ipython",
    "version": 3
   },
   "file_extension": ".py",
   "mimetype": "text/x-python",
   "name": "python",
   "nbconvert_exporter": "python",
   "pygments_lexer": "ipython3",
   "version": "3.10.14"
  }
 },
 "nbformat": 4,
 "nbformat_minor": 5
}
